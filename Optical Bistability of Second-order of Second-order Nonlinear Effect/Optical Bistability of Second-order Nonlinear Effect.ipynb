{
 "cells": [
  {
   "cell_type": "markdown",
   "metadata": {},
   "source": [
    "# Optical Bistability of Second-order Nonlinear Effects "
   ]
  },
  {
   "cell_type": "markdown",
   "metadata": {},
   "source": [
    "*yesunhuang 2019/11/5 last updated*   \n",
    "*Refering to QuTiP lecture: Single-Atom-Lasing*"
   ]
  },
  {
   "cell_type": "code",
   "execution_count": 1,
   "metadata": {},
   "outputs": [],
   "source": [
    "# setup the matplotlib graphics library and configure it to show \n",
    "# figures inline in the notebook\n",
    "%matplotlib inline\n",
    "import matplotlib as mpl\n",
    "import matplotlib.pyplot as plt\n",
    "import numpy as np"
   ]
  },
  {
   "cell_type": "code",
   "execution_count": 2,
   "metadata": {},
   "outputs": [],
   "source": [
    "# make qutip available in the rest of the notebook\n",
    "from qutip import *\n",
    "from scipy import *\n",
    "\n",
    "from IPython.display import Image"
   ]
  },
  {
   "cell_type": "markdown",
   "metadata": {},
   "source": [
    "## Theoritical model"
   ]
  },
  {
   "cell_type": "markdown",
   "metadata": {},
   "source": [
    "The Hamiltonian of the model is descrided as\n",
    "$$\n",
    "H_{rot}=\\hbar\\Delta_{a}a^{\\dagger}a+\\hbar\\Delta_{b}b^{\\dagger}b+\\hbar g_{nl}[b(a^{\\dagger}])^2+b^{\\dagger}a^2]+\\sqrt{2\\kappa_{ra}}E(a^{\\dagger}+a).\n",
    "$$"
   ]
  },
  {
   "cell_type": "markdown",
   "metadata": {},
   "source": [
    "The evolution of the density matrix is descrided as\n",
    "$$\n",
    "\\frac{d\\rho}{dt}=-i[H_{rot},\\rho]+\\sum_{i=a,b}\\kappa_i[2A_i\\rho A_i^{\\dagger}-A_i^{\\dagger}A_i\\rho-\\rho A_i^{\\dagger}A_i]\n",
    "$$"
   ]
  },
  {
   "cell_type": "markdown",
   "metadata": {},
   "source": [
    "where $g_{nl}$ is the cavity constant,and  E denotes the amplitude of the electric field of the driving laser.  \n",
    "And reflection, transmission and absorption losses are expressed in decay rates denoted as $\\kappa_{ra,rb},\\kappa_{ta,tb}\\,and\\,\\kappa_{la,lb}$.  \n",
    "Besides,$\\Delta_{a,b}$describes the detuning of each cavity mode from the laser frequency."
   ]
  },
  {
   "cell_type": "markdown",
   "metadata": {},
   "source": [
    "According to the phrase matching condition, we have the following relations:\n",
    "$$\n",
    "\\Delta_b=2\\Delta_a    \\hspace{1cm}   \\kappa_b=2\\kappa_a\n",
    "$$\n",
    "And we neglect the absorptive lose:\n",
    "$$\n",
    "    \\kappa_{ti}=\\kappa_{ri}=\\frac{\\kappa_i}{2}\\\\\n",
    "    i=a,b\n",
    "$$\n",
    "And in units where $\\hbar T=1$\n",
    "### Reference: \n",
    "*[Fryett, Taylor K. , C. M. Dodson , and A. Majumdar . \"Cavity enhanced nonlinear optics for few photon optical bistability.\" Optics Express 23.12(2015):16246.](https://www.researchgate.net/publication/279248964_Cavity_enhanced_nonlinear_optics_for_few_photon_optical_bistability)"
   ]
  },
  {
   "cell_type": "markdown",
   "metadata": {},
   "source": [
    "## Calculation"
   ]
  },
  {
   "cell_type": "markdown",
   "metadata": {},
   "source": [
    "### Problem parameters"
   ]
  },
  {
   "cell_type": "code",
   "execution_count": 3,
   "metadata": {},
   "outputs": [],
   "source": [
    "Delta_a=0.048*2*pi # detuning of  cavity mode a\n",
    "Delta_b=0.048*2*2*pi# detuning of  cavity mode b\n",
    "g=0.020*2*sci.pi#coupling strength\n",
    "\n",
    "kappa_ta=0.03*2*pi# transmission rate of mode a\n",
    "kappa_ra=0.03*2*pi#reflection rate of mode a\n",
    "\n",
    "kappa_tb=2*kappa_ta# transmission rate of mode b\n",
    "kappa_rb=2*kappa_ra#reflection rate of mode b\n",
    "\n",
    "E_0=0.04#Actually E_0/hbar\n",
    "\n",
    "N=15\n",
    "\n",
    "tlist=np.linspace(0,150,101)"
   ]
  },
  {
   "cell_type": "markdown",
   "metadata": {},
   "source": [
    "### Setup the operators, the Hamiltonian and initial state"
   ]
  },
  {
   "cell_type": "code",
   "execution_count": 4,
   "metadata": {},
   "outputs": [],
   "source": [
    "#initial state\n",
    "psi0=tensor(basis(N,2),basis(N,1))#2 photons in a and one photons in b\n",
    "\n",
    "#operators\n",
    "a=tensor(destroy(N),qeye(N))\n",
    "b=tensor(qeye(N),destroy(N))\n",
    "\n",
    "#Hamiltonian\n",
    "H=Delta_a*a.dag()*a+Delta_b*b.dag()*b\\\n",
    "+g*(b*a.dag()*a.dag()+b.dag()*a*a)+sqrt(2*kappa_ra)*E_0*(a.dag()+a)"
   ]
  },
  {
   "cell_type": "code",
   "execution_count": 5,
   "metadata": {},
   "outputs": [
    {
     "data": {
      "text/latex": [
       "Quantum object: dims = [[15, 15], [15, 15]], shape = (225, 225), type = oper, isherm = True\\begin{equation*}\\left(\\begin{array}{*{11}c}0.0 & 0.0 & 0.0 & 0.0 & 0.0 & \\cdots & 0.0 & 0.0 & 0.0 & 0.0 & 0.0\\\\0.0 & 0.603 & 0.0 & 0.0 & 0.0 & \\cdots & 0.0 & 0.0 & 0.0 & 0.0 & 0.0\\\\0.0 & 0.0 & 1.206 & 0.0 & 0.0 & \\cdots & 0.0 & 0.0 & 0.0 & 0.0 & 0.0\\\\0.0 & 0.0 & 0.0 & 1.810 & 0.0 & \\cdots & 0.0 & 0.0 & 0.0 & 0.0 & 0.0\\\\0.0 & 0.0 & 0.0 & 0.0 & 2.413 & \\cdots & 0.0 & 0.0 & 0.0 & 0.0 & 0.0\\\\\\vdots & \\vdots & \\vdots & \\vdots & \\vdots & \\ddots & \\vdots & \\vdots & \\vdots & \\vdots & \\vdots\\\\0.0 & 0.0 & 0.0 & 0.0 & 0.0 & \\cdots & 10.254 & 0.0 & 0.0 & 0.0 & 0.0\\\\0.0 & 0.0 & 0.0 & 0.0 & 0.0 & \\cdots & 0.0 & 10.857 & 0.0 & 0.0 & 0.0\\\\0.0 & 0.0 & 0.0 & 0.0 & 0.0 & \\cdots & 0.0 & 0.0 & 11.461 & 0.0 & 0.0\\\\0.0 & 0.0 & 0.0 & 0.0 & 0.0 & \\cdots & 0.0 & 0.0 & 0.0 & 12.064 & 0.0\\\\0.0 & 0.0 & 0.0 & 0.0 & 0.0 & \\cdots & 0.0 & 0.0 & 0.0 & 0.0 & 12.667\\\\\\end{array}\\right)\\end{equation*}"
      ],
      "text/plain": [
       "Quantum object: dims = [[15, 15], [15, 15]], shape = (225, 225), type = oper, isherm = True\n",
       "Qobj data =\n",
       "[[ 0.          0.          0.         ...  0.          0.\n",
       "   0.        ]\n",
       " [ 0.          0.60318579  0.         ...  0.          0.\n",
       "   0.        ]\n",
       " [ 0.          0.          1.20637158 ...  0.          0.\n",
       "   0.        ]\n",
       " ...\n",
       " [ 0.          0.          0.         ... 11.46053     0.\n",
       "   0.        ]\n",
       " [ 0.          0.          0.         ...  0.         12.06371579\n",
       "   0.        ]\n",
       " [ 0.          0.          0.         ...  0.          0.\n",
       "  12.66690158]]"
      ]
     },
     "execution_count": 5,
     "metadata": {},
     "output_type": "execute_result"
    }
   ],
   "source": [
    "H"
   ]
  },
  {
   "cell_type": "markdown",
   "metadata": {},
   "source": [
    "### Create a list of collapse operators that describe the dissipation"
   ]
  },
  {
   "cell_type": "code",
   "execution_count": 6,
   "metadata": {},
   "outputs": [],
   "source": [
    "#collapse operators\n",
    "c_ops=[]\n",
    "\n",
    "rate=2*(kappa_ta+kappa_ra)\n",
    "if rate > 0.0:\n",
    "    c_ops.append(sqrt(rate)*a)\n",
    "\n",
    "rate=2*(kappa_tb+kappa_rb)\n",
    "if rate > 0.0:\n",
    "    c_ops.append(sqrt(rate)*b)\n"
   ]
  },
  {
   "cell_type": "code",
   "execution_count": 7,
   "metadata": {},
   "outputs": [
    {
     "data": {
      "text/plain": [
       "[Quantum object: dims = [[15, 15], [15, 15]], shape = (225, 225), type = oper, isherm = False\n",
       " Qobj data =\n",
       " [[0. 0. 0. ... 0. 0. 0.]\n",
       "  [0. 0. 0. ... 0. 0. 0.]\n",
       "  [0. 0. 0. ... 0. 0. 0.]\n",
       "  ...\n",
       "  [0. 0. 0. ... 0. 0. 0.]\n",
       "  [0. 0. 0. ... 0. 0. 0.]\n",
       "  [0. 0. 0. ... 0. 0. 0.]],\n",
       " Quantum object: dims = [[15, 15], [15, 15]], shape = (225, 225), type = oper, isherm = False\n",
       " Qobj data =\n",
       " [[0.         1.22799205 0.         ... 0.         0.         0.        ]\n",
       "  [0.         0.         1.73664301 ... 0.         0.         0.        ]\n",
       "  [0.         0.         0.         ... 0.         0.         0.        ]\n",
       "  ...\n",
       "  [0.         0.         0.         ... 0.         4.4275883  0.        ]\n",
       "  [0.         0.         0.         ... 0.         0.         4.59472552]\n",
       "  [0.         0.         0.         ... 0.         0.         0.        ]]]"
      ]
     },
     "execution_count": 7,
     "metadata": {},
     "output_type": "execute_result"
    }
   ],
   "source": [
    "c_ops"
   ]
  },
  {
   "cell_type": "markdown",
   "metadata": {},
   "source": [
    "### Evolve the system"
   ]
  },
  {
   "cell_type": "code",
   "execution_count": 8,
   "metadata": {},
   "outputs": [],
   "source": [
    "opt = Odeoptions(nsteps=2000)#allow extra time-steps \n",
    "output = mesolve(H, psi0, tlist, c_ops, [a.dag() * a, b.dag() * b], options=opt)"
   ]
  },
  {
   "cell_type": "markdown",
   "metadata": {},
   "source": [
    "## Visualize the result"
   ]
  },
  {
   "cell_type": "code",
   "execution_count": 9,
   "metadata": {},
   "outputs": [
    {
     "data": {
      "image/png": "[encoded data removed]",
      "text/plain": [
       "<Figure size 576x432 with 1 Axes>"
      ]
     },
     "metadata": {
      "needs_background": "light"
     },
     "output_type": "display_data"
    }
   ],
   "source": [
    "n_a = output.expect[0]\n",
    "n_b = output.expect[1]\n",
    "\n",
    "fig, axes = plt.subplots(1, 1, figsize=(8,6))\n",
    "\n",
    "axes.plot(tlist, n_a, label=\"mode a\")\n",
    "axes.plot(tlist, n_b, label=\"mode b\")\n",
    "axes.set_xlim(0, 150)\n",
    "axes.legend(loc=0)\n",
    "axes.set_xlabel('Time')\n",
    "axes.set_ylabel('Photons Numbers');"
   ]
  },
  {
   "cell_type": "markdown",
   "metadata": {},
   "source": [
    "### Steady state and Ouput power"
   ]
  },
  {
   "cell_type": "code",
   "execution_count": 10,
   "metadata": {},
   "outputs": [],
   "source": [
    "rho_ss = steadystate(H, c_ops)"
   ]
  },
  {
   "cell_type": "code",
   "execution_count": 11,
   "metadata": {},
   "outputs": [
    {
     "data": {
      "text/plain": [
       "0.0009755301235006027"
      ]
     },
     "execution_count": 11,
     "metadata": {},
     "output_type": "execute_result"
    }
   ],
   "source": [
    "P_trans=2*kappa_ta*expect(a.dag()*a,rho_ss)#is need to mutiply by hOmiga_a.\n",
    "P_trans"
   ]
  },
  {
   "cell_type": "code",
   "execution_count": 12,
   "metadata": {},
   "outputs": [
    {
     "data": {
      "text/plain": [
       "0.6097063271878767"
      ]
     },
     "execution_count": 12,
     "metadata": {},
     "output_type": "execute_result"
    }
   ],
   "source": [
    "P_in=E_0*E_0\n",
    "output_rate=P_trans/P_in\n",
    "output_rate"
   ]
  },
  {
   "cell_type": "code",
   "execution_count": 13,
   "metadata": {},
   "outputs": [
    {
     "data": {
      "image/png": "[encoded data removed]",
      "text/plain": [
       "<Figure size 1296x432 with 3 Axes>"
      ]
     },
     "metadata": {
      "needs_background": "light"
     },
     "output_type": "display_data"
    }
   ],
   "source": [
    "fig, axes = plt.subplots(1, 3, figsize=(18,6))\n",
    "\n",
    "xvec = np.linspace(-5,5,200)\n",
    "\n",
    "rho_a = ptrace(rho_ss, 0)\n",
    "rho_b=ptrace(rho_ss,1)\n",
    "W = wigner(rho_a, xvec, xvec)\n",
    "wlim = abs(W).max()\n",
    "\n",
    "axes[2].contourf(xvec, xvec, W, 100, norm=mpl.colors.Normalize(-wlim,wlim), cmap=plt.get_cmap('RdBu'))\n",
    "axes[2].set_xlabel(r'Im $\\alpha$', fontsize=18)\n",
    "axes[2].set_ylabel(r'Re $\\alpha$', fontsize=18)\n",
    "\n",
    "axes[0].bar(arange(0, N), real(rho_a.diag()), color=\"blue\", alpha=0.6)\n",
    "axes[0].set_ylim(0, 1)\n",
    "axes[0].set_xlim(0, N)\n",
    "axes[0].set_xlabel('Fock number', fontsize=18)\n",
    "axes[0].set_ylabel('Occupation probability of mode a', fontsize=18);\n",
    "\n",
    "axes[1].bar(arange(0, N), real(rho_b.diag()), color=\"blue\", alpha=0.6)\n",
    "axes[1].set_ylim(0, 1)\n",
    "axes[1].set_xlim(0, N)\n",
    "axes[1].set_xlabel('Fock number', fontsize=18)\n",
    "axes[1].set_ylabel('Occupation probability of mode b', fontsize=18);"
   ]
  }
 ],
 "metadata": {
  "kernelspec": {
   "display_name": "Python 3",
   "language": "python",
   "name": "python3"
  },
  "language_info": {
   "codemirror_mode": {
    "name": "ipython",
    "version": 3
   },
   "file_extension": ".py",
   "mimetype": "text/x-python",
   "name": "python",
   "nbconvert_exporter": "python",
   "pygments_lexer": "ipython3",
   "version": "3.7.4"
  }
 },
 "nbformat": 4,
 "nbformat_minor": 2
}
